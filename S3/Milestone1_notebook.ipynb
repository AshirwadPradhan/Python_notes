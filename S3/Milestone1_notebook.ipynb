{
 "cells": [
  {
   "cell_type": "code",
   "execution_count": 9,
   "metadata": {
    "collapsed": true
   },
   "outputs": [],
   "source": [
    "def display_board(board):\n",
    "    \"\"\"\n",
    "    Displays the game board\n",
    "    \"\"\"\n",
    "    \n",
    "    print(' '+'|'+' '+'|'+' ')\n",
    "    print(board[7]+'|'+board[8]+'|'+board[9])\n",
    "    print(' '+'|'+' '+'|'+' ')\n",
    "    print('------')\n",
    "    print(' '+'|'+' '+'|'+' ')\n",
    "    print(board[4]+'|'+board[5]+'|'+board[6])\n",
    "    print(' '+'|'+' '+'|'+' ')\n",
    "    print('------')\n",
    "    print(' '+'|'+' '+'|'+' ')\n",
    "    print(board[1]+'|'+board[2]+'|'+board[3])\n",
    "    print(' '+'|'+' '+'|'+' ')"
   ]
  },
  {
   "cell_type": "code",
   "execution_count": 10,
   "metadata": {
    "collapsed": false
   },
   "outputs": [
    {
     "name": "stdout",
     "output_type": "stream",
     "text": [
      " | | \n",
      "X|O|X\n",
      " | | \n",
      "------\n",
      " | | \n",
      "O|X|O\n",
      " | | \n",
      "------\n",
      " | | \n",
      "X|O|X\n",
      " | | \n"
     ]
    }
   ],
   "source": [
    "display_board(['#','X','O','X','O','X','O','X','O','X'])"
   ]
  },
  {
   "cell_type": "code",
   "execution_count": null,
   "metadata": {
    "collapsed": true
   },
   "outputs": [],
   "source": []
  }
 ],
 "metadata": {
  "anaconda-cloud": {},
  "kernelspec": {
   "display_name": "Python [conda root]",
   "language": "python",
   "name": "conda-root-py"
  },
  "language_info": {
   "codemirror_mode": {
    "name": "ipython",
    "version": 3
   },
   "file_extension": ".py",
   "mimetype": "text/x-python",
   "name": "python",
   "nbconvert_exporter": "python",
   "pygments_lexer": "ipython3",
   "version": "3.5.2"
  }
 },
 "nbformat": 4,
 "nbformat_minor": 1
}
